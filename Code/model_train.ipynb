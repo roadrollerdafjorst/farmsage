{
 "cells": [
  {
   "cell_type": "code",
   "execution_count": 2,
   "metadata": {},
   "outputs": [],
   "source": [
    "import pandas as pd\n",
    "import requests as rq\n",
    "import json as js\n",
    "from time import sleep\n",
    "import seaborn as sns\n",
    "import matplotlib.pyplot as plt\n",
    "import numpy as np\n",
    "from sklearn.model_selection import train_test_split\n",
    "from sklearn.preprocessing import StandardScaler\n",
    "import warnings\n",
    "import category_encoders as ce\n",
    "from sklearn.ensemble import RandomForestRegressor, GradientBoostingRegressor\n",
    "from lightgbm import LGBMRegressor\n",
    "from sklearn.linear_model import ElasticNet\n",
    "from xgboost import XGBRegressor\n",
    "from sklearn.model_selection import GridSearchCV\n",
    "from sklearn import metrics\n",
    "warnings.filterwarnings('ignore')\n",
    "import joblib"
   ]
  },
  {
   "cell_type": "markdown",
   "metadata": {},
   "source": [
    "# API Call"
   ]
  },
  {
   "cell_type": "code",
   "execution_count": 2,
   "metadata": {},
   "outputs": [],
   "source": [
    "class BestTimeToFertilize:\n",
    "    __BASE_URL = \"https://api.weatherbit.io/v2.0/forecast/daily?\"\n",
    "    __API_KEY = \"051d187cb45f4da7835e3fcd695dc707\"\n",
    "    \n",
    "    def __init__(self, city_name = 'Nagpur', state_name = 'Maharashtra', days = 7):\n",
    "        self.city_name = '+'.join(city_name.lower().strip().split())\n",
    "        self.state_name = '+'.join(state_name.lower().strip().split())\n",
    "        self.country_name = 'IN'\n",
    "        self.days = days\n",
    "        self.response = None\n",
    "        self.response_code = None\n",
    "        self.weather_data = list()\n",
    "        \n",
    "    def api_caller(self):\n",
    "        try:\n",
    "            complete_url = \"{0}city={1}&state={2}&country={3}&key={4}&days={5}\".format(self.__BASE_URL, self.city_name, self.state_name, self.country_name, self.__API_KEY, self.days)\n",
    "            print(complete_url)\n",
    "            self.response = rq.get(complete_url)\n",
    "            sleep(5)\n",
    "            self.response_code = self.response.status_code\n",
    "            return self.response_code\n",
    "        except Exception as msg:\n",
    "            print(\"api_caller():\", msg)\n",
    "            return -1\n",
    "        \n",
    "    def is_api_call_success(self):\n",
    "        if self.response_code == 200:\n",
    "            return True\n",
    "        elif self.response_code == 204:\n",
    "            print('Oops! It seems there was an issue with the API call. Please check your input and try again later.')\n",
    "        return False\n",
    "    \n",
    "    def json_file_bulider(self):\n",
    "        try:\n",
    "            json_obj = self.response.json()\n",
    "            with open('weather_data.json', 'w') as file:\n",
    "                js.dump(json_obj, file, indent = 1, sort_keys = True)\n",
    "            print(\"weather_data.json file built successfully\")\n",
    "        except Exception as msg:\n",
    "            print(\"json_bulider():\", msg)\n",
    "            \n",
    "    def best_time_fertilize(self):\n",
    "        json_obj = self.response.json()\n",
    "        \n",
    "        print(\"City:\", json_obj['city_name'], \"\\n\")\n",
    "\n",
    "        prolonged_precip = 0\n",
    "        prolonged_prob = 0\n",
    "        heavy_rain_2d = False\n",
    "        heavy_rain_chance_2d = 0\n",
    "        precip_2d = 0\n",
    "        precip_chance_2d = 0\n",
    "        \n",
    "        for i in range(self.days):\n",
    "            date = json_obj['data'][i]['datetime']\n",
    "            temp = json_obj['data'][i]['temp']\n",
    "            rh = json_obj['data'][i]['rh']\n",
    "            precip = json_obj['data'][i]['precip']\n",
    "            prob = json_obj['data'][i]['pop']\n",
    "            w_code = json_obj['data'][i]['weather']['code']\n",
    "            w_desc = json_obj['data'][i]['weather']['description']\n",
    "            i_code = json_obj['data'][i]['weather']['icon']\n",
    "            prolonged_precip += precip\n",
    "            prolonged_prob += prob\n",
    "\n",
    "            count_2d = 0\n",
    "            if i < 2:\n",
    "                precip_2d += precip\n",
    "                precip_chance_2d += prob\n",
    "                if w_code in [202, 233, 502, 521, 522]:\n",
    "                    heavy_rain_2d = True\n",
    "                    heavy_rain_chance_2d += prob\n",
    "                    count_2d += 1\n",
    "                    heavy_rain_chance_2d //= count_2d\n",
    "            \n",
    "            di = {\n",
    "                  \"Date\": str(date), \n",
    "                  \"Temperature\": str(temp), \n",
    "                  \"Relative Humidity\": str(rh), \n",
    "                  \"Rainfall\": str(precip), \n",
    "                  \"Probability of Precipitation\": str(prob),\n",
    "                  \"Weather code\": str(w_code),\n",
    "                  \"Weather Description\": str(w_desc),\n",
    "                  \"Icon code\": str(i_code)\n",
    "                 }\n",
    "            self.weather_data.append(di)\n",
    "            \n",
    "            print(\"Date:\", date)\n",
    "            print(\"Temperature:\", temp)\n",
    "            print(\"Relative Humidity:\", rh)\n",
    "            print(\"Rainfall:\", precip)\n",
    "            print(\"Probability of Precipitation:\", prob)\n",
    "            print(\"Weather code:\", w_code, \"->\", w_desc)\n",
    "            print()\n",
    "\n",
    "        prolonged_prob //= self.days\n",
    "        precip_chance_2d //= 2\n",
    "\n",
    "        print(\"-\"*80)\n",
    "        print(\"Rainfall Forecast for the Next 2 Days (including today):\", precip_2d)\n",
    "        print(\"Probability of Rain for the Next 2 Days (including today):\", precip_chance_2d)\n",
    "        print()\n",
    "\n",
    "        if heavy_rain_2d:\n",
    "            print(\"*\"*21, \"Warning !!!\", \"*\"*21)\n",
    "            print(\"Heavy Rain Chances:\", heavy_rain_chance_2d)\n",
    "            print(\"Heavy Rainfall puts your fertilizer at risk.\")\n",
    "            print(\"*\"*21, \"Warning !!!\", \"*\"*21)\n",
    "\n",
    "        print(\"Prolonged Precipitation:\", prolonged_precip)\n",
    "        print(\"Prolonged Precipitation Probability:\", prolonged_prob)\n",
    "        print()\n",
    "\n",
    "        if prolonged_precip > 12.7 and prolonged_prob >= 50:\n",
    "            print(\"*\"*21, \"Warning !!!\", \"*\"*21)\n",
    "            print(\"Prolonged Rainfall of greater than 12.7 mm puts your fertilizer at risk.\")\n",
    "            print(\"*\"*21, \"Warning !!!\", \"*\"*21)"
   ]
  },
  {
   "cell_type": "code",
   "execution_count": 3,
   "metadata": {},
   "outputs": [
    {
     "name": "stdout",
     "output_type": "stream",
     "text": [
      "https://api.weatherbit.io/v2.0/forecast/daily?city=mumbai&state=maharashtra&country=IN&key=051d187cb45f4da7835e3fcd695dc707&days=7\n",
      "200\n",
      "City: Mumbai \n",
      "\n",
      "Date: 2023-09-07\n",
      "Temperature: 26.3\n",
      "Relative Humidity: 89\n",
      "Rainfall: 47.3125\n",
      "Probability of Precipitation: 95\n",
      "Weather code: 502 -> Heavy rain\n",
      "\n",
      "Date: 2023-09-08\n",
      "Temperature: 27.2\n",
      "Relative Humidity: 88\n",
      "Rainfall: 70.875\n",
      "Probability of Precipitation: 95\n",
      "Weather code: 502 -> Heavy rain\n",
      "\n",
      "Date: 2023-09-09\n",
      "Temperature: 27.6\n",
      "Relative Humidity: 86\n",
      "Rainfall: 26.3125\n",
      "Probability of Precipitation: 90\n",
      "Weather code: 502 -> Heavy rain\n",
      "\n",
      "Date: 2023-09-10\n",
      "Temperature: 27.9\n",
      "Relative Humidity: 84\n",
      "Rainfall: 7.625\n",
      "Probability of Precipitation: 70\n",
      "Weather code: 501 -> Moderate rain\n",
      "\n",
      "Date: 2023-09-11\n",
      "Temperature: 27.9\n",
      "Relative Humidity: 84\n",
      "Rainfall: 13.625\n",
      "Probability of Precipitation: 80\n",
      "Weather code: 501 -> Moderate rain\n",
      "\n",
      "Date: 2023-09-12\n",
      "Temperature: 27.9\n",
      "Relative Humidity: 83\n",
      "Rainfall: 3.25\n",
      "Probability of Precipitation: 50\n",
      "Weather code: 500 -> Light rain\n",
      "\n",
      "Date: 2023-09-13\n",
      "Temperature: 27.9\n",
      "Relative Humidity: 83\n",
      "Rainfall: 9.125\n",
      "Probability of Precipitation: 75\n",
      "Weather code: 501 -> Moderate rain\n",
      "\n",
      "--------------------------------------------------------------------------------\n",
      "Rainfall Forecast for the Next 2 Days (including today): 118.1875\n",
      "Probability of Rain for the Next 2 Days (including today): 95\n",
      "\n",
      "********************* Warning !!! *********************\n",
      "Heavy Rain Chances: 190\n",
      "Heavy Rainfall puts your fertilizer at risk.\n",
      "********************* Warning !!! *********************\n",
      "Prolonged Precipitation: 178.125\n",
      "Prolonged Precipitation Probability: 79\n",
      "\n",
      "********************* Warning !!! *********************\n",
      "Prolonged Rainfall of greater than 12.7 mm puts your fertilizer at risk.\n",
      "********************* Warning !!! *********************\n",
      "weather_data.json file built successfully\n"
     ]
    }
   ],
   "source": [
    "if __name__ == '__main__':\n",
    "    obj = BestTimeToFertilize('Mumbai', 'Maharashtra')\n",
    "    print(obj.api_caller())\n",
    "    if obj.is_api_call_success():\n",
    "        obj.best_time_fertilize()\n",
    "        obj.json_file_bulider()\n",
    "#         print(obj.weather_data)"
   ]
  },
  {
   "cell_type": "markdown",
   "metadata": {},
   "source": [
    "# Data"
   ]
  },
  {
   "cell_type": "code",
   "execution_count": 3,
   "metadata": {},
   "outputs": [
    {
     "data": {
      "text/plain": [
       "(2201, 7)"
      ]
     },
     "execution_count": 3,
     "metadata": {},
     "output_type": "execute_result"
    }
   ],
   "source": [
    "data = './app/data/Nutrient_recommendation.csv'\n",
    "df = pd.read_csv(data, header=None)\n",
    "df.shape"
   ]
  },
  {
   "cell_type": "code",
   "execution_count": 4,
   "metadata": {},
   "outputs": [
    {
     "data": {
      "text/html": [
       "<div>\n",
       "<style scoped>\n",
       "    .dataframe tbody tr th:only-of-type {\n",
       "        vertical-align: middle;\n",
       "    }\n",
       "\n",
       "    .dataframe tbody tr th {\n",
       "        vertical-align: top;\n",
       "    }\n",
       "\n",
       "    .dataframe thead th {\n",
       "        text-align: right;\n",
       "    }\n",
       "</style>\n",
       "<table border=\"1\" class=\"dataframe\">\n",
       "  <thead>\n",
       "    <tr style=\"text-align: right;\">\n",
       "      <th></th>\n",
       "      <th>0</th>\n",
       "      <th>1</th>\n",
       "      <th>2</th>\n",
       "      <th>3</th>\n",
       "      <th>4</th>\n",
       "      <th>5</th>\n",
       "      <th>6</th>\n",
       "    </tr>\n",
       "  </thead>\n",
       "  <tbody>\n",
       "    <tr>\n",
       "      <th>0</th>\n",
       "      <td>Crop</td>\n",
       "      <td>Temperature</td>\n",
       "      <td>Humidity</td>\n",
       "      <td>Rainfall</td>\n",
       "      <td>Label_N</td>\n",
       "      <td>Label_P</td>\n",
       "      <td>Label_K</td>\n",
       "    </tr>\n",
       "    <tr>\n",
       "      <th>1</th>\n",
       "      <td>rice</td>\n",
       "      <td>20.87974371</td>\n",
       "      <td>82.00274423</td>\n",
       "      <td>202.9355362</td>\n",
       "      <td>90</td>\n",
       "      <td>42</td>\n",
       "      <td>43</td>\n",
       "    </tr>\n",
       "    <tr>\n",
       "      <th>2</th>\n",
       "      <td>rice</td>\n",
       "      <td>21.77046169</td>\n",
       "      <td>80.31964408</td>\n",
       "      <td>226.6555374</td>\n",
       "      <td>85</td>\n",
       "      <td>58</td>\n",
       "      <td>41</td>\n",
       "    </tr>\n",
       "    <tr>\n",
       "      <th>3</th>\n",
       "      <td>rice</td>\n",
       "      <td>23.00445915</td>\n",
       "      <td>82.3207629</td>\n",
       "      <td>263.9642476</td>\n",
       "      <td>60</td>\n",
       "      <td>55</td>\n",
       "      <td>44</td>\n",
       "    </tr>\n",
       "    <tr>\n",
       "      <th>4</th>\n",
       "      <td>rice</td>\n",
       "      <td>26.49109635</td>\n",
       "      <td>80.15836264</td>\n",
       "      <td>242.8640342</td>\n",
       "      <td>74</td>\n",
       "      <td>35</td>\n",
       "      <td>40</td>\n",
       "    </tr>\n",
       "    <tr>\n",
       "      <th>5</th>\n",
       "      <td>rice</td>\n",
       "      <td>20.13017482</td>\n",
       "      <td>81.60487287</td>\n",
       "      <td>262.7173405</td>\n",
       "      <td>78</td>\n",
       "      <td>42</td>\n",
       "      <td>42</td>\n",
       "    </tr>\n",
       "    <tr>\n",
       "      <th>6</th>\n",
       "      <td>rice</td>\n",
       "      <td>23.05804872</td>\n",
       "      <td>83.37011772</td>\n",
       "      <td>251.0549998</td>\n",
       "      <td>69</td>\n",
       "      <td>37</td>\n",
       "      <td>42</td>\n",
       "    </tr>\n",
       "    <tr>\n",
       "      <th>7</th>\n",
       "      <td>rice</td>\n",
       "      <td>22.70883798</td>\n",
       "      <td>82.63941394</td>\n",
       "      <td>271.3248604</td>\n",
       "      <td>69</td>\n",
       "      <td>55</td>\n",
       "      <td>38</td>\n",
       "    </tr>\n",
       "    <tr>\n",
       "      <th>8</th>\n",
       "      <td>rice</td>\n",
       "      <td>20.27774362</td>\n",
       "      <td>82.89408619</td>\n",
       "      <td>241.9741949</td>\n",
       "      <td>94</td>\n",
       "      <td>53</td>\n",
       "      <td>40</td>\n",
       "    </tr>\n",
       "    <tr>\n",
       "      <th>9</th>\n",
       "      <td>rice</td>\n",
       "      <td>24.51588066</td>\n",
       "      <td>83.5352163</td>\n",
       "      <td>230.4462359</td>\n",
       "      <td>89</td>\n",
       "      <td>54</td>\n",
       "      <td>38</td>\n",
       "    </tr>\n",
       "  </tbody>\n",
       "</table>\n",
       "</div>"
      ],
      "text/plain": [
       "      0            1            2            3        4        5        6\n",
       "0  Crop  Temperature     Humidity     Rainfall  Label_N  Label_P  Label_K\n",
       "1  rice  20.87974371  82.00274423  202.9355362       90       42       43\n",
       "2  rice  21.77046169  80.31964408  226.6555374       85       58       41\n",
       "3  rice  23.00445915   82.3207629  263.9642476       60       55       44\n",
       "4  rice  26.49109635  80.15836264  242.8640342       74       35       40\n",
       "5  rice  20.13017482  81.60487287  262.7173405       78       42       42\n",
       "6  rice  23.05804872  83.37011772  251.0549998       69       37       42\n",
       "7  rice  22.70883798  82.63941394  271.3248604       69       55       38\n",
       "8  rice  20.27774362  82.89408619  241.9741949       94       53       40\n",
       "9  rice  24.51588066   83.5352163  230.4462359       89       54       38"
      ]
     },
     "execution_count": 4,
     "metadata": {},
     "output_type": "execute_result"
    }
   ],
   "source": [
    "df.head(10)"
   ]
  },
  {
   "cell_type": "code",
   "execution_count": 5,
   "metadata": {},
   "outputs": [
    {
     "data": {
      "text/html": [
       "<div>\n",
       "<style scoped>\n",
       "    .dataframe tbody tr th:only-of-type {\n",
       "        vertical-align: middle;\n",
       "    }\n",
       "\n",
       "    .dataframe tbody tr th {\n",
       "        vertical-align: top;\n",
       "    }\n",
       "\n",
       "    .dataframe thead th {\n",
       "        text-align: right;\n",
       "    }\n",
       "</style>\n",
       "<table border=\"1\" class=\"dataframe\">\n",
       "  <thead>\n",
       "    <tr style=\"text-align: right;\">\n",
       "      <th></th>\n",
       "      <th>Crop</th>\n",
       "      <th>Temperature</th>\n",
       "      <th>Humidity</th>\n",
       "      <th>Rainfall</th>\n",
       "      <th>Label_N</th>\n",
       "      <th>Label_P</th>\n",
       "      <th>Label_K</th>\n",
       "    </tr>\n",
       "  </thead>\n",
       "  <tbody>\n",
       "    <tr>\n",
       "      <th>1</th>\n",
       "      <td>rice</td>\n",
       "      <td>20.87974371</td>\n",
       "      <td>82.00274423</td>\n",
       "      <td>202.9355362</td>\n",
       "      <td>90</td>\n",
       "      <td>42</td>\n",
       "      <td>43</td>\n",
       "    </tr>\n",
       "    <tr>\n",
       "      <th>2</th>\n",
       "      <td>rice</td>\n",
       "      <td>21.77046169</td>\n",
       "      <td>80.31964408</td>\n",
       "      <td>226.6555374</td>\n",
       "      <td>85</td>\n",
       "      <td>58</td>\n",
       "      <td>41</td>\n",
       "    </tr>\n",
       "    <tr>\n",
       "      <th>3</th>\n",
       "      <td>rice</td>\n",
       "      <td>23.00445915</td>\n",
       "      <td>82.3207629</td>\n",
       "      <td>263.9642476</td>\n",
       "      <td>60</td>\n",
       "      <td>55</td>\n",
       "      <td>44</td>\n",
       "    </tr>\n",
       "    <tr>\n",
       "      <th>4</th>\n",
       "      <td>rice</td>\n",
       "      <td>26.49109635</td>\n",
       "      <td>80.15836264</td>\n",
       "      <td>242.8640342</td>\n",
       "      <td>74</td>\n",
       "      <td>35</td>\n",
       "      <td>40</td>\n",
       "    </tr>\n",
       "    <tr>\n",
       "      <th>5</th>\n",
       "      <td>rice</td>\n",
       "      <td>20.13017482</td>\n",
       "      <td>81.60487287</td>\n",
       "      <td>262.7173405</td>\n",
       "      <td>78</td>\n",
       "      <td>42</td>\n",
       "      <td>42</td>\n",
       "    </tr>\n",
       "    <tr>\n",
       "      <th>6</th>\n",
       "      <td>rice</td>\n",
       "      <td>23.05804872</td>\n",
       "      <td>83.37011772</td>\n",
       "      <td>251.0549998</td>\n",
       "      <td>69</td>\n",
       "      <td>37</td>\n",
       "      <td>42</td>\n",
       "    </tr>\n",
       "    <tr>\n",
       "      <th>7</th>\n",
       "      <td>rice</td>\n",
       "      <td>22.70883798</td>\n",
       "      <td>82.63941394</td>\n",
       "      <td>271.3248604</td>\n",
       "      <td>69</td>\n",
       "      <td>55</td>\n",
       "      <td>38</td>\n",
       "    </tr>\n",
       "    <tr>\n",
       "      <th>8</th>\n",
       "      <td>rice</td>\n",
       "      <td>20.27774362</td>\n",
       "      <td>82.89408619</td>\n",
       "      <td>241.9741949</td>\n",
       "      <td>94</td>\n",
       "      <td>53</td>\n",
       "      <td>40</td>\n",
       "    </tr>\n",
       "    <tr>\n",
       "      <th>9</th>\n",
       "      <td>rice</td>\n",
       "      <td>24.51588066</td>\n",
       "      <td>83.5352163</td>\n",
       "      <td>230.4462359</td>\n",
       "      <td>89</td>\n",
       "      <td>54</td>\n",
       "      <td>38</td>\n",
       "    </tr>\n",
       "    <tr>\n",
       "      <th>10</th>\n",
       "      <td>rice</td>\n",
       "      <td>23.22397386</td>\n",
       "      <td>83.03322691</td>\n",
       "      <td>221.2091958</td>\n",
       "      <td>68</td>\n",
       "      <td>58</td>\n",
       "      <td>38</td>\n",
       "    </tr>\n",
       "  </tbody>\n",
       "</table>\n",
       "</div>"
      ],
      "text/plain": [
       "    Crop  Temperature     Humidity     Rainfall Label_N Label_P Label_K\n",
       "1   rice  20.87974371  82.00274423  202.9355362      90      42      43\n",
       "2   rice  21.77046169  80.31964408  226.6555374      85      58      41\n",
       "3   rice  23.00445915   82.3207629  263.9642476      60      55      44\n",
       "4   rice  26.49109635  80.15836264  242.8640342      74      35      40\n",
       "5   rice  20.13017482  81.60487287  262.7173405      78      42      42\n",
       "6   rice  23.05804872  83.37011772  251.0549998      69      37      42\n",
       "7   rice  22.70883798  82.63941394  271.3248604      69      55      38\n",
       "8   rice  20.27774362  82.89408619  241.9741949      94      53      40\n",
       "9   rice  24.51588066   83.5352163  230.4462359      89      54      38\n",
       "10  rice  23.22397386  83.03322691  221.2091958      68      58      38"
      ]
     },
     "execution_count": 5,
     "metadata": {},
     "output_type": "execute_result"
    }
   ],
   "source": [
    "df.columns = ['Crop', 'Temperature', 'Humidity', 'Rainfall', 'Label_N', 'Label_P', 'Label_K']\n",
    "df.drop(df.index[:1], inplace=True)\n",
    "df.head(10)"
   ]
  },
  {
   "cell_type": "code",
   "execution_count": 6,
   "metadata": {},
   "outputs": [],
   "source": [
    "df[['Temperature', 'Humidity', 'Rainfall']] = df[['Temperature', 'Humidity', 'Rainfall']].astype(float)"
   ]
  },
  {
   "cell_type": "code",
   "execution_count": 7,
   "metadata": {},
   "outputs": [
    {
     "name": "stdout",
     "output_type": "stream",
     "text": [
      "<class 'pandas.core.frame.DataFrame'>\n",
      "RangeIndex: 2200 entries, 1 to 2200\n",
      "Data columns (total 7 columns):\n",
      " #   Column       Non-Null Count  Dtype  \n",
      "---  ------       --------------  -----  \n",
      " 0   Crop         2200 non-null   object \n",
      " 1   Temperature  2200 non-null   float64\n",
      " 2   Humidity     2200 non-null   float64\n",
      " 3   Rainfall     2200 non-null   float64\n",
      " 4   Label_N      2200 non-null   object \n",
      " 5   Label_P      2200 non-null   object \n",
      " 6   Label_K      2200 non-null   object \n",
      "dtypes: float64(3), object(4)\n",
      "memory usage: 120.4+ KB\n"
     ]
    }
   ],
   "source": [
    "df.info()"
   ]
  },
  {
   "cell_type": "code",
   "execution_count": 8,
   "metadata": {},
   "outputs": [
    {
     "data": {
      "text/plain": [
       "Crop           0\n",
       "Temperature    0\n",
       "Humidity       0\n",
       "Rainfall       0\n",
       "Label_N        0\n",
       "Label_P        0\n",
       "Label_K        0\n",
       "dtype: int64"
      ]
     },
     "execution_count": 8,
     "metadata": {},
     "output_type": "execute_result"
    }
   ],
   "source": [
    "df.isnull().sum()"
   ]
  },
  {
   "cell_type": "code",
   "execution_count": 9,
   "metadata": {},
   "outputs": [
    {
     "data": {
      "text/plain": [
       "array([['90', '42', '43'],\n",
       "       ['85', '58', '41'],\n",
       "       ['60', '55', '44'],\n",
       "       ...,\n",
       "       ['118', '33', '30'],\n",
       "       ['117', '32', '34'],\n",
       "       ['104', '18', '30']], dtype=object)"
      ]
     },
     "execution_count": 9,
     "metadata": {},
     "output_type": "execute_result"
    }
   ],
   "source": [
    "X = df.drop(['Label_N', 'Label_P', 'Label_K'], axis=1)\n",
    "\n",
    "y1 = df['Label_N']\n",
    "y2 = df['Label_P']\n",
    "y3 = df['Label_K']\n",
    "\n",
    "y = np.concatenate([[y1], [y2], [y3]], axis=0).T\n",
    "y"
   ]
  },
  {
   "cell_type": "code",
   "execution_count": 10,
   "metadata": {},
   "outputs": [
    {
     "data": {
      "text/plain": [
       "((1760, 4), (440, 4))"
      ]
     },
     "execution_count": 10,
     "metadata": {},
     "output_type": "execute_result"
    }
   ],
   "source": [
    "X_train, X_test, y_train, y_test = train_test_split(X, y, test_size = 0.20)\n",
    "X_train.shape, X_test.shape"
   ]
  },
  {
   "cell_type": "code",
   "execution_count": 11,
   "metadata": {},
   "outputs": [
    {
     "data": {
      "text/plain": [
       "((1760, 3), (440, 3))"
      ]
     },
     "execution_count": 11,
     "metadata": {},
     "output_type": "execute_result"
    }
   ],
   "source": [
    "y_train.shape, y_test.shape"
   ]
  },
  {
   "cell_type": "code",
   "execution_count": 12,
   "metadata": {},
   "outputs": [],
   "source": [
    "y1_train = y_train[:, 0]\n",
    "y2_train = y_train[:, 1]\n",
    "y3_train = y_train[:, 2]\n",
    "\n",
    "y1_test = y_test[:, 0]\n",
    "y2_test = y_test[:, 1]\n",
    "y3_test = y_test[:, 2]"
   ]
  },
  {
   "cell_type": "code",
   "execution_count": 13,
   "metadata": {},
   "outputs": [
    {
     "data": {
      "text/html": [
       "<div>\n",
       "<style scoped>\n",
       "    .dataframe tbody tr th:only-of-type {\n",
       "        vertical-align: middle;\n",
       "    }\n",
       "\n",
       "    .dataframe tbody tr th {\n",
       "        vertical-align: top;\n",
       "    }\n",
       "\n",
       "    .dataframe thead th {\n",
       "        text-align: right;\n",
       "    }\n",
       "</style>\n",
       "<table border=\"1\" class=\"dataframe\">\n",
       "  <thead>\n",
       "    <tr style=\"text-align: right;\">\n",
       "      <th></th>\n",
       "      <th>Crop</th>\n",
       "      <th>Temperature</th>\n",
       "      <th>Humidity</th>\n",
       "      <th>Rainfall</th>\n",
       "    </tr>\n",
       "  </thead>\n",
       "  <tbody>\n",
       "    <tr>\n",
       "      <th>460</th>\n",
       "      <td>pigeonpeas</td>\n",
       "      <td>33.151226</td>\n",
       "      <td>32.459745</td>\n",
       "      <td>105.038027</td>\n",
       "    </tr>\n",
       "    <tr>\n",
       "      <th>1995</th>\n",
       "      <td>cotton</td>\n",
       "      <td>23.438217</td>\n",
       "      <td>78.633888</td>\n",
       "      <td>81.150721</td>\n",
       "    </tr>\n",
       "    <tr>\n",
       "      <th>1454</th>\n",
       "      <td>muskmelon</td>\n",
       "      <td>29.125337</td>\n",
       "      <td>91.522911</td>\n",
       "      <td>21.904404</td>\n",
       "    </tr>\n",
       "    <tr>\n",
       "      <th>1850</th>\n",
       "      <td>coconut</td>\n",
       "      <td>27.058265</td>\n",
       "      <td>91.105104</td>\n",
       "      <td>224.700695</td>\n",
       "    </tr>\n",
       "    <tr>\n",
       "      <th>1786</th>\n",
       "      <td>papaya</td>\n",
       "      <td>29.023280</td>\n",
       "      <td>90.203968</td>\n",
       "      <td>126.806987</td>\n",
       "    </tr>\n",
       "    <tr>\n",
       "      <th>1281</th>\n",
       "      <td>grapes</td>\n",
       "      <td>35.121583</td>\n",
       "      <td>82.268908</td>\n",
       "      <td>69.715185</td>\n",
       "    </tr>\n",
       "    <tr>\n",
       "      <th>1175</th>\n",
       "      <td>mango</td>\n",
       "      <td>31.271810</td>\n",
       "      <td>52.238102</td>\n",
       "      <td>89.744090</td>\n",
       "    </tr>\n",
       "    <tr>\n",
       "      <th>2161</th>\n",
       "      <td>coffee</td>\n",
       "      <td>26.366299</td>\n",
       "      <td>52.257385</td>\n",
       "      <td>177.317616</td>\n",
       "    </tr>\n",
       "    <tr>\n",
       "      <th>320</th>\n",
       "      <td>kidneybeans</td>\n",
       "      <td>23.042910</td>\n",
       "      <td>22.426110</td>\n",
       "      <td>108.368432</td>\n",
       "    </tr>\n",
       "    <tr>\n",
       "      <th>981</th>\n",
       "      <td>pomegranate</td>\n",
       "      <td>20.241049</td>\n",
       "      <td>91.087068</td>\n",
       "      <td>109.253773</td>\n",
       "    </tr>\n",
       "  </tbody>\n",
       "</table>\n",
       "</div>"
      ],
      "text/plain": [
       "             Crop  Temperature   Humidity    Rainfall\n",
       "460    pigeonpeas    33.151226  32.459745  105.038027\n",
       "1995       cotton    23.438217  78.633888   81.150721\n",
       "1454    muskmelon    29.125337  91.522911   21.904404\n",
       "1850      coconut    27.058265  91.105104  224.700695\n",
       "1786       papaya    29.023280  90.203968  126.806987\n",
       "1281       grapes    35.121583  82.268908   69.715185\n",
       "1175        mango    31.271810  52.238102   89.744090\n",
       "2161       coffee    26.366299  52.257385  177.317616\n",
       "320   kidneybeans    23.042910  22.426110  108.368432\n",
       "981   pomegranate    20.241049  91.087068  109.253773"
      ]
     },
     "execution_count": 13,
     "metadata": {},
     "output_type": "execute_result"
    }
   ],
   "source": [
    "X_train.head(10)"
   ]
  },
  {
   "cell_type": "code",
   "execution_count": 16,
   "metadata": {},
   "outputs": [
    {
     "name": "stdout",
     "output_type": "stream",
     "text": [
      "{'apple': 1, 'banana': 2, 'blackgram': 3, 'chickpea': 4, 'coconut': 5, 'coffee': 6, 'cotton': 7, 'grapes': 8, 'jute': 9, 'kidneybeans': 10, 'lentil': 11, 'maize': 12, 'mango': 13, 'mothbeans': 14, 'mungbean': 15, 'muskmelon': 16, 'orange': 17, 'papaya': 18, 'pigeonpeas': 19, 'pomegranate': 20, 'rice': 21, 'watermelon': 22, 'NA': nan}\n"
     ]
    }
   ],
   "source": [
    "mapping = dict()\n",
    "with open(\"./app/data/mapped_crops.csv\", \"w\") as f:\n",
    "    f.write(\"Crops,Key\\n\")\n",
    "    for i, crop in enumerate(np.unique(df[['Crop']]), 1):\n",
    "        mapping[crop] =  i\n",
    "        f.write(\"%s,%d\\n\" % (crop, i))\n",
    "    mapping['NA'] = np.nan\n",
    "    f.write(\"NA,nan\")\n",
    "    \n",
    "print(mapping)"
   ]
  },
  {
   "cell_type": "code",
   "execution_count": 17,
   "metadata": {},
   "outputs": [
    {
     "data": {
      "text/html": [
       "<div>\n",
       "<style scoped>\n",
       "    .dataframe tbody tr th:only-of-type {\n",
       "        vertical-align: middle;\n",
       "    }\n",
       "\n",
       "    .dataframe tbody tr th {\n",
       "        vertical-align: top;\n",
       "    }\n",
       "\n",
       "    .dataframe thead th {\n",
       "        text-align: right;\n",
       "    }\n",
       "</style>\n",
       "<table border=\"1\" class=\"dataframe\">\n",
       "  <thead>\n",
       "    <tr style=\"text-align: right;\">\n",
       "      <th></th>\n",
       "      <th>Crop</th>\n",
       "      <th>Temperature</th>\n",
       "      <th>Humidity</th>\n",
       "      <th>Rainfall</th>\n",
       "    </tr>\n",
       "  </thead>\n",
       "  <tbody>\n",
       "    <tr>\n",
       "      <th>460</th>\n",
       "      <td>19</td>\n",
       "      <td>33.151226</td>\n",
       "      <td>32.459745</td>\n",
       "      <td>105.038027</td>\n",
       "    </tr>\n",
       "    <tr>\n",
       "      <th>1995</th>\n",
       "      <td>7</td>\n",
       "      <td>23.438217</td>\n",
       "      <td>78.633888</td>\n",
       "      <td>81.150721</td>\n",
       "    </tr>\n",
       "    <tr>\n",
       "      <th>1454</th>\n",
       "      <td>16</td>\n",
       "      <td>29.125337</td>\n",
       "      <td>91.522911</td>\n",
       "      <td>21.904404</td>\n",
       "    </tr>\n",
       "    <tr>\n",
       "      <th>1850</th>\n",
       "      <td>5</td>\n",
       "      <td>27.058265</td>\n",
       "      <td>91.105104</td>\n",
       "      <td>224.700695</td>\n",
       "    </tr>\n",
       "    <tr>\n",
       "      <th>1786</th>\n",
       "      <td>18</td>\n",
       "      <td>29.023280</td>\n",
       "      <td>90.203968</td>\n",
       "      <td>126.806987</td>\n",
       "    </tr>\n",
       "  </tbody>\n",
       "</table>\n",
       "</div>"
      ],
      "text/plain": [
       "      Crop  Temperature   Humidity    Rainfall\n",
       "460     19    33.151226  32.459745  105.038027\n",
       "1995     7    23.438217  78.633888   81.150721\n",
       "1454    16    29.125337  91.522911   21.904404\n",
       "1850     5    27.058265  91.105104  224.700695\n",
       "1786    18    29.023280  90.203968  126.806987"
      ]
     },
     "execution_count": 17,
     "metadata": {},
     "output_type": "execute_result"
    }
   ],
   "source": [
    "ordinal_cols_mapping = [{\"col\": \"Crop\", \"mapping\": mapping}, ]\n",
    "encoder = ce.OrdinalEncoder(cols = 'Crop', mapping = ordinal_cols_mapping, return_df = True)\n",
    "\n",
    "X_train = encoder.fit_transform(X_train)\n",
    "X_test = encoder.transform(X_test)\n",
    "X_train.head()"
   ]
  },
  {
   "cell_type": "markdown",
   "metadata": {},
   "source": [
    "# Training"
   ]
  },
  {
   "cell_type": "markdown",
   "metadata": {},
   "source": [
    "### Random Forest"
   ]
  },
  {
   "cell_type": "code",
   "execution_count": 18,
   "metadata": {},
   "outputs": [],
   "source": [
    "# Define the parameter grid for grid search\n",
    "param_grid = {\n",
    "    'n_estimators': [50, 100, 150],  \n",
    "    'max_depth': [5, 10, 15],  \n",
    "    'min_samples_split': [2, 5, 10],  \n",
    "    'min_samples_leaf': [2, 4, 6] \n",
    "}\n",
    "\n",
    "regressor = RandomForestRegressor(random_state=42)\n",
    "\n",
    "grid_search = GridSearchCV(estimator=regressor, param_grid=param_grid, cv=5, n_jobs=-1, scoring='neg_mean_squared_error')\n",
    "grid_search.fit(X_train, y1_train)\n",
    "\n",
    "best_params_rf = grid_search.best_params_\n",
    "best_regressor_rf = grid_search.best_estimator_\n"
   ]
  },
  {
   "cell_type": "code",
   "execution_count": 19,
   "metadata": {},
   "outputs": [
    {
     "name": "stdout",
     "output_type": "stream",
     "text": [
      "RandomForestRegressor(max_depth=10, min_samples_leaf=2, min_samples_split=10,\n",
      "                      n_estimators=50, random_state=42)\n",
      "{'max_depth': 10, 'min_samples_leaf': 2, 'min_samples_split': 10, 'n_estimators': 50}\n"
     ]
    }
   ],
   "source": [
    "print(best_regressor_rf)\n",
    "print(best_params_rf)"
   ]
  },
  {
   "cell_type": "code",
   "execution_count": 20,
   "metadata": {},
   "outputs": [
    {
     "name": "stdout",
     "output_type": "stream",
     "text": [
      "Random Forest Regressor (Nitrogen):\n",
      "Mean Absolute Error: 10.777496144635919\n",
      "Mean Squared Error: 159.3087199612202\n",
      "Root Mean Squared Error: 12.621755819267785\n",
      "\n",
      "RMSE:  12.622\n"
     ]
    }
   ],
   "source": [
    "# Nitrogen\n",
    "\n",
    "rf1 = RandomForestRegressor(**best_params_rf)\n",
    "rf1.fit(X_train, y1_train)\n",
    "y1_pred = rf1.predict(X_test)\n",
    "\n",
    "print(\"Random Forest Regressor (Nitrogen):\")\n",
    "\n",
    "print('Mean Absolute Error:', metrics.mean_absolute_error(y1_test, y1_pred))\n",
    "print('Mean Squared Error:', metrics.mean_squared_error(y1_test, y1_pred))\n",
    "print('Root Mean Squared Error:', np.sqrt(metrics.mean_squared_error(y1_test, y1_pred)))\n",
    "\n",
    "rmse = float(format(np.sqrt(metrics.mean_squared_error(y1_test, y1_pred)), '.3f'))\n",
    "print(\"\\nRMSE: \", rmse)"
   ]
  },
  {
   "cell_type": "code",
   "execution_count": 21,
   "metadata": {},
   "outputs": [
    {
     "name": "stdout",
     "output_type": "stream",
     "text": [
      "Random Forest Regressor (Phosphorus):\n",
      "Mean Absolute Error: 7.20443350688477\n",
      "Mean Squared Error: 76.47334278970779\n",
      "Root Mean Squared Error: 8.74490381820794\n",
      "\n",
      "RMSE:  8.745\n"
     ]
    }
   ],
   "source": [
    "# Phosphorus\n",
    "\n",
    "rf2 = RandomForestRegressor(**best_params_rf)\n",
    "rf2.fit(X_train, y2_train)\n",
    "y2_pred = rf2.predict(X_test)\n",
    "\n",
    "print(\"Random Forest Regressor (Phosphorus):\")\n",
    "\n",
    "print('Mean Absolute Error:', metrics.mean_absolute_error(y2_test, y2_pred))\n",
    "print('Mean Squared Error:', metrics.mean_squared_error(y2_test, y2_pred))\n",
    "print('Root Mean Squared Error:', np.sqrt(metrics.mean_squared_error(y2_test, y2_pred)))\n",
    "\n",
    "rmse = float(format(np.sqrt(metrics.mean_squared_error(y2_test, y2_pred)), '.3f'))\n",
    "print(\"\\nRMSE: \", rmse)"
   ]
  },
  {
   "cell_type": "code",
   "execution_count": 22,
   "metadata": {},
   "outputs": [
    {
     "name": "stdout",
     "output_type": "stream",
     "text": [
      "Random Forest Regressor (Potassium):\n",
      "Mean Absolute Error: 2.7810995403246057\n",
      "Mean Squared Error: 10.52889489927055\n",
      "Root Mean Squared Error: 3.244825865785489\n",
      "\n",
      "RMSE:  3.245\n"
     ]
    }
   ],
   "source": [
    "# Potassium\n",
    "\n",
    "rf3 = RandomForestRegressor(**best_params_rf)\n",
    "rf3.fit(X_train, y3_train)\n",
    "y3_pred = rf3.predict(X_test)\n",
    "\n",
    "print(\"Random Forest Regressor (Potassium):\")\n",
    "\n",
    "print('Mean Absolute Error:', metrics.mean_absolute_error(y3_test, y3_pred))\n",
    "print('Mean Squared Error:', metrics.mean_squared_error(y3_test, y3_pred))\n",
    "print('Root Mean Squared Error:', np.sqrt(metrics.mean_squared_error(y3_test, y3_pred)))\n",
    "\n",
    "rmse = float(format(np.sqrt(metrics.mean_squared_error(y3_test, y3_pred)), '.3f'))\n",
    "print(\"\\nRMSE: \", rmse)"
   ]
  },
  {
   "cell_type": "markdown",
   "metadata": {},
   "source": [
    "### Gradient Boosting"
   ]
  },
  {
   "cell_type": "code",
   "execution_count": 23,
   "metadata": {},
   "outputs": [],
   "source": [
    "# Define the hyperparameter grid for GridSearch\n",
    "param_grid = {\n",
    "    'n_estimators': [50, 100, 150],  \n",
    "    'max_depth': [5, 10, 15],  \n",
    "    'min_samples_split': [2, 5, 10],  \n",
    "    'min_samples_leaf': [2, 4, 6] \n",
    "}\n",
    "\n",
    "gbr = GradientBoostingRegressor(random_state=42)\n",
    "\n",
    "grid_search = GridSearchCV(estimator=gbr, param_grid=param_grid, scoring='neg_mean_squared_error', cv=5)\n",
    "grid_search.fit(X_train, y1_train)\n",
    "\n",
    "best_params_gb = grid_search.best_params_\n",
    "best_regressor_gb = grid_search.best_estimator_\n"
   ]
  },
  {
   "cell_type": "code",
   "execution_count": 24,
   "metadata": {},
   "outputs": [
    {
     "name": "stdout",
     "output_type": "stream",
     "text": [
      "GradientBoostingRegressor(max_depth=5, min_samples_leaf=6, n_estimators=50,\n",
      "                          random_state=42)\n",
      "{'max_depth': 5, 'min_samples_leaf': 6, 'min_samples_split': 2, 'n_estimators': 50}\n"
     ]
    }
   ],
   "source": [
    "print(best_regressor_gb)\n",
    "print(best_params_gb)"
   ]
  },
  {
   "cell_type": "code",
   "execution_count": 25,
   "metadata": {},
   "outputs": [
    {
     "name": "stdout",
     "output_type": "stream",
     "text": [
      "Random Forest Regressor (Nitrogen):\n",
      "Mean Absolute Error: 11.16738471054076\n",
      "Mean Squared Error: 170.65558385745766\n",
      "Root Mean Squared Error: 13.063521112527727\n"
     ]
    }
   ],
   "source": [
    "# Nitrogen\n",
    "\n",
    "gb1 = GradientBoostingRegressor(**best_params_gb)\n",
    "gb1.fit(X_train, y1_train)\n",
    "y1_pred = gb1.predict(X_test)\n",
    "\n",
    "print(\"Random Forest Regressor (Nitrogen):\")\n",
    "\n",
    "print('Mean Absolute Error:', metrics.mean_absolute_error(y1_test, y1_pred))\n",
    "print('Mean Squared Error:', metrics.mean_squared_error(y1_test, y1_pred))\n",
    "print('Root Mean Squared Error:', np.sqrt(metrics.mean_squared_error(y1_test, y1_pred)))\n",
    "\n",
    "rmse = float(format(np.sqrt(metrics.mean_squared_error(y1_test, y1_pred)), '.3f'))"
   ]
  },
  {
   "cell_type": "code",
   "execution_count": 26,
   "metadata": {},
   "outputs": [
    {
     "name": "stdout",
     "output_type": "stream",
     "text": [
      "Random Forest Regressor (Phosphorus):\n",
      "Mean Absolute Error: 7.209923171880688\n",
      "Mean Squared Error: 73.26685960314803\n",
      "Root Mean Squared Error: 8.559606276175794\n",
      "\n",
      "RMSE:  8.56\n"
     ]
    }
   ],
   "source": [
    "# Phosphorus\n",
    "\n",
    "gb2 = GradientBoostingRegressor(**best_params_gb)\n",
    "gb2.fit(X_train, y2_train)\n",
    "y2_pred = gb2.predict(X_test)\n",
    "\n",
    "print(\"Random Forest Regressor (Phosphorus):\")\n",
    "\n",
    "print('Mean Absolute Error:', metrics.mean_absolute_error(y2_test, y2_pred))\n",
    "print('Mean Squared Error:', metrics.mean_squared_error(y2_test, y2_pred))\n",
    "print('Root Mean Squared Error:', np.sqrt(metrics.mean_squared_error(y2_test, y2_pred)))\n",
    "\n",
    "rmse = float(format(np.sqrt(metrics.mean_squared_error(y2_test, y2_pred)), '.3f'))\n",
    "print(\"\\nRMSE: \", rmse)"
   ]
  },
  {
   "cell_type": "code",
   "execution_count": 27,
   "metadata": {},
   "outputs": [
    {
     "name": "stdout",
     "output_type": "stream",
     "text": [
      "Random Forest Regressor (Potassium):\n",
      "Mean Absolute Error: 2.7810995403246057\n",
      "Mean Squared Error: 10.52889489927055\n",
      "Root Mean Squared Error: 3.244825865785489\n",
      "\n",
      "RMSE:  3.245\n"
     ]
    }
   ],
   "source": [
    "# Potassium\n",
    "\n",
    "gb3 = GradientBoostingRegressor(**best_params_gb)\n",
    "gb3.fit(X_train, y2_train)\n",
    "y2_pred = gb3.predict(X_test)\n",
    "\n",
    "print(\"Random Forest Regressor (Potassium):\")\n",
    "\n",
    "print('Mean Absolute Error:', metrics.mean_absolute_error(y3_test, y3_pred))\n",
    "print('Mean Squared Error:', metrics.mean_squared_error(y3_test, y3_pred))\n",
    "print('Root Mean Squared Error:', np.sqrt(metrics.mean_squared_error(y3_test, y3_pred)))\n",
    "\n",
    "rmse = float(format(np.sqrt(metrics.mean_squared_error(y3_test, y3_pred)), '.3f'))\n",
    "print(\"\\nRMSE: \", rmse)"
   ]
  },
  {
   "cell_type": "markdown",
   "metadata": {},
   "source": [
    "### Light GBM"
   ]
  },
  {
   "cell_type": "code",
   "execution_count": 28,
   "metadata": {},
   "outputs": [],
   "source": [
    "param_grid = {\n",
    "    'n_estimators': [50, 100, 150],\n",
    "    'max_depth': [5, 10, 15],\n",
    "    'min_child_samples': [2, 5, 10],  \n",
    "    'min_child_weight': [1e-3, 1e-2, 1e-1],  \n",
    "}\n",
    "\n",
    "regressor = LGBMRegressor(random_state=42)\n",
    "\n",
    "grid_search = GridSearchCV(estimator=regressor, param_grid=param_grid, cv=5, n_jobs=-1, scoring='neg_mean_squared_error')\n",
    "grid_search.fit(X_train, y1_train)\n",
    "\n",
    "best_params_lgb = grid_search.best_params_\n",
    "best_regressor_lgb = grid_search.best_estimator_\n"
   ]
  },
  {
   "cell_type": "code",
   "execution_count": 29,
   "metadata": {},
   "outputs": [
    {
     "name": "stdout",
     "output_type": "stream",
     "text": [
      "LGBMRegressor(max_depth=15, min_child_samples=2, n_estimators=50,\n",
      "              random_state=42)\n",
      "{'max_depth': 15, 'min_child_samples': 2, 'min_child_weight': 0.001, 'n_estimators': 50}\n"
     ]
    }
   ],
   "source": [
    "print(best_regressor_lgb)\n",
    "print(best_params_lgb)"
   ]
  },
  {
   "cell_type": "code",
   "execution_count": 30,
   "metadata": {},
   "outputs": [
    {
     "name": "stdout",
     "output_type": "stream",
     "text": [
      "Random Forest Regressor (Nitrogen):\n",
      "Mean Absolute Error: 10.78813821983173\n",
      "Mean Squared Error: 161.61238469700282\n",
      "Root Mean Squared Error: 12.712685974922955\n"
     ]
    }
   ],
   "source": [
    "# Nitrogen\n",
    "\n",
    "lgb1 = LGBMRegressor(**best_params_lgb)\n",
    "lgb1.fit(X_train, y1_train)\n",
    "y1_pred = lgb1.predict(X_test)\n",
    "\n",
    "print(\"Random Forest Regressor (Nitrogen):\")\n",
    "\n",
    "print('Mean Absolute Error:', metrics.mean_absolute_error(y1_test, y1_pred))\n",
    "print('Mean Squared Error:', metrics.mean_squared_error(y1_test, y1_pred))\n",
    "print('Root Mean Squared Error:', np.sqrt(metrics.mean_squared_error(y1_test, y1_pred)))\n",
    "\n",
    "rmse = float(format(np.sqrt(metrics.mean_squared_error(y1_test, y1_pred)), '.3f'))"
   ]
  },
  {
   "cell_type": "code",
   "execution_count": 31,
   "metadata": {},
   "outputs": [
    {
     "name": "stdout",
     "output_type": "stream",
     "text": [
      "Random Forest Regressor (Phosphorus):\n",
      "Mean Absolute Error: 7.20992317188069\n",
      "Mean Squared Error: 73.26685960314805\n",
      "Root Mean Squared Error: 8.559606276175794\n"
     ]
    }
   ],
   "source": [
    "# Phosphorus\n",
    "\n",
    "lgb2 = LGBMRegressor(**best_params_lgb)\n",
    "lgb2.fit(X_train, y1_train)\n",
    "y1_pred = lgb2.predict(X_test)\n",
    "\n",
    "print(\"Random Forest Regressor (Phosphorus):\")\n",
    "\n",
    "print('Mean Absolute Error:', metrics.mean_absolute_error(y2_test, y2_pred))\n",
    "print('Mean Squared Error:', metrics.mean_squared_error(y2_test, y2_pred))\n",
    "print('Root Mean Squared Error:', np.sqrt(metrics.mean_squared_error(y2_test, y2_pred)))\n",
    "\n",
    "rmse = float(format(np.sqrt(metrics.mean_squared_error(y2_test, y2_pred)), '.3f'))"
   ]
  },
  {
   "cell_type": "code",
   "execution_count": 32,
   "metadata": {},
   "outputs": [
    {
     "name": "stdout",
     "output_type": "stream",
     "text": [
      "Random Forest Regressor (Potassium):\n",
      "Mean Absolute Error: 2.7810995403246057\n",
      "Mean Squared Error: 10.52889489927055\n",
      "Root Mean Squared Error: 3.244825865785489\n",
      "\n",
      "RMSE:  3.245\n"
     ]
    }
   ],
   "source": [
    "# Potassium\n",
    "\n",
    "lgb3 = LGBMRegressor(**best_params_lgb)\n",
    "lgb3.fit(X_train, y1_train)\n",
    "y1_pred = lgb3.predict(X_test)\n",
    "\n",
    "print(\"Random Forest Regressor (Potassium):\")\n",
    "\n",
    "print('Mean Absolute Error:', metrics.mean_absolute_error(y3_test, y3_pred))\n",
    "print('Mean Squared Error:', metrics.mean_squared_error(y3_test, y3_pred))\n",
    "print('Root Mean Squared Error:', np.sqrt(metrics.mean_squared_error(y3_test, y3_pred)))\n",
    "\n",
    "rmse = float(format(np.sqrt(metrics.mean_squared_error(y3_test, y3_pred)), '.3f'))\n",
    "print(\"\\nRMSE: \", rmse)"
   ]
  },
  {
   "cell_type": "markdown",
   "metadata": {},
   "source": [
    "### ElasticNet"
   ]
  },
  {
   "cell_type": "code",
   "execution_count": 33,
   "metadata": {},
   "outputs": [],
   "source": [
    "param_grid = {\n",
    "    'alpha': [0.1, 1.0, 10.0], \n",
    "    'l1_ratio': [0.1, 0.5, 0.9], \n",
    "}\n",
    "\n",
    "regressor = ElasticNet(random_state=42)\n",
    "\n",
    "grid_search = GridSearchCV(estimator=regressor, param_grid=param_grid, cv=5, n_jobs=-1, scoring='neg_mean_squared_error')\n",
    "grid_search.fit(X_train, y_train)\n",
    "\n",
    "best_params_en = grid_search.best_params_\n",
    "best_regressor_en = grid_search.best_estimator_\n"
   ]
  },
  {
   "cell_type": "code",
   "execution_count": 34,
   "metadata": {},
   "outputs": [
    {
     "name": "stdout",
     "output_type": "stream",
     "text": [
      "ElasticNet(random_state=42)\n",
      "{'alpha': 1.0, 'l1_ratio': 0.5}\n"
     ]
    }
   ],
   "source": [
    "print(best_regressor_en)\n",
    "print(best_params_en)"
   ]
  },
  {
   "cell_type": "code",
   "execution_count": 35,
   "metadata": {},
   "outputs": [
    {
     "name": "stdout",
     "output_type": "stream",
     "text": [
      "ElasticNet (Nitrogen):\n",
      "Mean Absolute Error: 30.999470244469194\n",
      "Mean Squared Error: 1276.3223245394788\n",
      "Root Mean Squared Error: 35.72565359149471\n"
     ]
    }
   ],
   "source": [
    "# Nitrogen\n",
    "\n",
    "en1 = ElasticNet(**best_params_en)\n",
    "en1.fit(X_train, y1_train)\n",
    "y1_pred = en1.predict(X_test)\n",
    "\n",
    "print(\"ElasticNet (Nitrogen):\")\n",
    "\n",
    "print('Mean Absolute Error:', metrics.mean_absolute_error(y1_test, y1_pred))\n",
    "print('Mean Squared Error:', metrics.mean_squared_error(y1_test, y1_pred))\n",
    "print('Root Mean Squared Error:', np.sqrt(metrics.mean_squared_error(y1_test, y1_pred)))\n",
    "\n",
    "rmse = float(format(np.sqrt(metrics.mean_squared_error(y1_test, y1_pred)), '.3f'))"
   ]
  },
  {
   "cell_type": "markdown",
   "metadata": {},
   "source": [
    "### Best Model"
   ]
  },
  {
   "cell_type": "code",
   "execution_count": 36,
   "metadata": {},
   "outputs": [
    {
     "data": {
      "text/plain": [
       "['./app/models/rf_K-v1.pkl']"
      ]
     },
     "execution_count": 36,
     "metadata": {},
     "output_type": "execute_result"
    }
   ],
   "source": [
    "# Random Forest Regressor\n",
    "\n",
    "# save the model to disk\n",
    "joblib.dump(rf1, './app/models/rf_N-v1.pkl')\n",
    "joblib.dump(rf2, './app/models/rf_P-v1.pkl')\n",
    "joblib.dump(rf3, './app/models/rf_K-v1.pkl')"
   ]
  },
  {
   "cell_type": "code",
   "execution_count": 30,
   "metadata": {},
   "outputs": [],
   "source": [
    "class NPKEstimator:\n",
    "    def __init__(self, data = 'Nutrient_recommendation.csv', ):\n",
    "        self.df = pd.read_csv(data, header=None)\n",
    "        self.X_train = None\n",
    "        self.X_test = None\n",
    "        self.y_train = None\n",
    "        self.y_test = None\n",
    "        \n",
    "    \n",
    "    def renameCol(self):\n",
    "        self.df.columns = ['Crop', 'Temperature', 'Humidity', 'Rainfall', 'Label_N', 'Label_P', 'Label_K']\n",
    "        self.df.drop(self.df.index[:1], inplace=True)\n",
    "    \n",
    "    \n",
    "    def cropMapper(self):\n",
    "        # create mapping of crop(string) to int type\n",
    "        mapping = dict()\n",
    "\n",
    "        with open(\"mapped_crops.csv\", \"w\") as fh:\n",
    "            fh.write(\"Crops,Key\\n\")\n",
    "            for i, crop in enumerate(np.unique(self.df[['Crop']]), 1):\n",
    "                mapping[crop] =  i\n",
    "                fh.write(\"%s,%d\\n\" % (crop, i))\n",
    "            mapping['NA'] = np.nan\n",
    "            fh.write(\"NA,nan\")\n",
    "        # print(mapping)\n",
    "        \n",
    "        ordinal_cols_mapping = [{\"col\": \"Crop\", \"mapping\": mapping}, ]\n",
    "        encoder = ce.OrdinalEncoder(cols = 'Crop', mapping = ordinal_cols_mapping, return_df = True)\n",
    "        return mapping, encoder\n",
    "    \n",
    "    \n",
    "    def estimator(self, crop, temp, humidity, rainfall, y_label):\n",
    "        X = self.df.drop(['Label_N', 'Label_P', 'Label_K'], axis=1)\n",
    "        y = self.df[y_label]\n",
    "        \n",
    "        self.X_train, self.X_test, self.y_train, self.y_test = train_test_split(X, y, test_size = 0.20, random_state = 42)\n",
    "        \n",
    "        mapping, encoder = self.cropMapper()\n",
    "        self.X_train = encoder.fit_transform(self.X_train)\n",
    "        self.X_test = encoder.transform(self.X_test)\n",
    "        \n",
    "        regressor = RandomForestRegressor(n_estimators = 50, random_state = 0)\n",
    "        regressor.fit(self.X_train, self.y_train)\n",
    "        \n",
    "        # y_pred = regressor.predict(self.X_test)\n",
    "        query = [mapping[crop.strip().lower()], temp, humidity, rainfall]\n",
    "        y_pred = regressor.predict([query])\n",
    "        return y_pred\n",
    "    \n",
    "    \n",
    "    def accuracyCalculator(self):\n",
    "        model = RandomForestRegressor(n_jobs=-1)\n",
    "        estimators = np.arange(10, 200, 10)\n",
    "        scores = []\n",
    "        for n in estimators:\n",
    "            model.set_params(n_estimators=n)\n",
    "            model.fit(self.X_train, self.y_train)\n",
    "            scores.append(model.score(self.X_test, self.y_test))\n",
    "        \n",
    "        scores_arr = [round(sc, 3) for sc in scores]\n",
    "        unique, counts = np.unique(scores_arr, return_counts = True)\n",
    "\n",
    "        max_count = max(counts)\n",
    "        accuracy = -1\n",
    "        for uni, count in zip(unique, counts):\n",
    "            # print(uni, count)\n",
    "            if count == max_count:\n",
    "                accuracy = uni\n",
    "\n",
    "        # print(\"Model accuracy: %.2f\" % (accuracy))\n",
    "        return accuracy"
   ]
  },
  {
   "cell_type": "code",
   "execution_count": 38,
   "metadata": {},
   "outputs": [
    {
     "name": "stdout",
     "output_type": "stream",
     "text": [
      "Label_K : 40.46\n"
     ]
    }
   ],
   "source": [
    "if __name__ == '__main__':\n",
    "    obj = NPKEstimator()\n",
    "    obj.renameCol()\n",
    "    # 'Label_N', 'Label_P', 'Label_K'\n",
    "    # rice,21.94766735,80.97384195,213.3560921,67,59,41\n",
    "    crop, temp, humidity, rainfall, y_label = 'rice',21.94766735,80.97384195,213.3560921,'Label_K'\n",
    "    res = obj.estimator(crop, temp, humidity, rainfall, y_label)\n",
    "    print(y_label, \":\", res[0])"
   ]
  },
  {
   "cell_type": "code",
   "execution_count": null,
   "metadata": {},
   "outputs": [],
   "source": []
  }
 ],
 "metadata": {
  "kernelspec": {
   "display_name": "Python 3",
   "language": "python",
   "name": "python3"
  },
  "language_info": {
   "codemirror_mode": {
    "name": "ipython",
    "version": 3
   },
   "file_extension": ".py",
   "mimetype": "text/x-python",
   "name": "python",
   "nbconvert_exporter": "python",
   "pygments_lexer": "ipython3",
   "version": "3.10.1"
  }
 },
 "nbformat": 4,
 "nbformat_minor": 4
}
